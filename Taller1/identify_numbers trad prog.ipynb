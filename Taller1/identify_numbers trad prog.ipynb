{
 "cells": [
  {
   "cell_type": "markdown",
   "metadata": {},
   "source": [
    "# Task #1 of Deep Learning Course- MIT - ICESI "
   ]
  },
  {
   "cell_type": "markdown",
   "metadata": {},
   "source": [
    "1. Load libraies"
   ]
  },
  {
   "cell_type": "code",
   "execution_count": 205,
   "metadata": {},
   "outputs": [],
   "source": [
    "from sklearn.datasets import load_digits\n",
    "from sklearn.metrics import confusion_matrix\n",
    "import pylab as pl"
   ]
  },
  {
   "cell_type": "markdown",
   "metadata": {},
   "source": [
    "2. Load digits"
   ]
  },
  {
   "cell_type": "code",
   "execution_count": 206,
   "metadata": {},
   "outputs": [],
   "source": [
    "digits = load_digits()"
   ]
  },
  {
   "cell_type": "markdown",
   "metadata": {},
   "source": [
    "# 7"
   ]
  },
  {
   "cell_type": "markdown",
   "metadata": {},
   "source": [
    "3. Print some sevens"
   ]
  },
  {
   "cell_type": "code",
   "execution_count": 207,
   "metadata": {},
   "outputs": [
    {
     "data": {
      "text/plain": [
       "<Figure size 432x288 with 0 Axes>"
      ]
     },
     "metadata": {},
     "output_type": "display_data"
    }
   ],
   "source": [
    "targets = digits.target \n",
    "indices = [i for i,x in enumerate(targets) if x == 7] #identifying seven indices\n",
    "#indices\n",
    "\n",
    "pl.gray() # Queremos las imágenes en grises\n",
    "for i in indices[10:40]:\n",
    "    #print(digits.images[i])  # Imprimir una imagen dada\n",
    "    #pl.gray() # Queremos las imágenes en grises\n",
    "    #pl.matshow(digits.images[i]) # Imprimir una imagen dada\n",
    "    pass"
   ]
  },
  {
   "cell_type": "markdown",
   "metadata": {},
   "source": [
    "It seems like there are two types of 7s: 1. The above line is straight, and 2. The above line is ascendent.\n",
    "\n",
    "There are some patterns identified: \n",
    "    1. The first column is black (number less than or equal to 3). \n",
    "    2. The lower-right corner (positions [5][7], [6][7], [7][7], [7][6], [7][5], [6][6]) is black (number less than or equal to 3). \n",
    "    3.1. For the first type of 7, almost always there is a black (number less than or equal to 3) line in the 3rd row until the 3rd column (pos [2][2]). \n",
    "    3.2. For the second type of 7, it has a black pixel (number less than or equal to 3) wether in [2][3] or in [2][4]."
   ]
  },
  {
   "cell_type": "code",
   "execution_count": 208,
   "metadata": {},
   "outputs": [],
   "source": [
    "def column(matrix, i):\n",
    "    return [row[i] for row in matrix]\n",
    "\n",
    "def is_black(lista): \n",
    "    return all(number <= 3 for number in lista)"
   ]
  },
  {
   "cell_type": "code",
   "execution_count": 209,
   "metadata": {},
   "outputs": [],
   "source": [
    "def is_seven(digit):\n",
    "    #print (digit)\n",
    "    \n",
    "    #1. The first column is black (number less than or equal to 3).\n",
    "    \n",
    "    first_column = column(digit, 0)\n",
    "    fcb = is_black(first_column) #first column black\n",
    "    #print(fcb)\n",
    "\n",
    "    #2. The lower-right corner (positions [5][7], [6][7], [7][7], [7][6], [7][5], [6][6]) is black (number less than or equal to 3). \n",
    "\n",
    "    lr_corner= [digit[5][7], digit[6][7], digit[7][7], digit[7][6], digit[7][5], digit[6][6]]\n",
    "    lrb= is_black(lr_corner)\n",
    "    #print(lr_corner)\n",
    "\n",
    "    #3.1. For the first type of 7, almost always there is a black (number less than or equal to 3) line in the 3rd row until the 3rd column (pos [2][2]). \n",
    "\n",
    "    third_row = [digit[2][0], digit[2][1], digit[2][2]]\n",
    "    trb = is_black(third_row)\n",
    "    #print(trb)\n",
    "\n",
    "    #3.2. For the second type of 7, it has a black pixel (number less than or equal to 3) wether in [2][3] or in [2][4].\n",
    "\n",
    "    alb = digit[2][3] <= 3 or digit[2][4] <= 3  # ascendent line black\n",
    "    #print(alb)\n",
    "\n",
    "    #3\n",
    "\n",
    "    tc = trb or alb # third condition\n",
    "    #print(tc)\n",
    "\n",
    "    result= fcb and lrb and tc\n",
    "    return result\n",
    "    #print(result)"
   ]
  },
  {
   "cell_type": "code",
   "execution_count": 210,
   "metadata": {},
   "outputs": [],
   "source": [
    "#is_seven(digits.images[7])"
   ]
  },
  {
   "cell_type": "markdown",
   "metadata": {},
   "source": [
    "Confusion Matrix"
   ]
  },
  {
   "cell_type": "code",
   "execution_count": 211,
   "metadata": {},
   "outputs": [
    {
     "name": "stdout",
     "output_type": "stream",
     "text": [
      "167 355 12 1263\n"
     ]
    }
   ],
   "source": [
    "y_true= [digit==7 for digit in digits.target]\n",
    "y_pred = [is_seven(digit) for digit in digits.images]\n",
    "#print (y_pred)\n",
    "tn, fp, fn, tp = confusion_matrix(y_true, y_pred).ravel()\n",
    "print(tp, fp, fn, tn)"
   ]
  },
  {
   "cell_type": "code",
   "execution_count": 212,
   "metadata": {},
   "outputs": [
    {
     "name": "stdout",
     "output_type": "stream",
     "text": [
      "0.7957707289927657 0.2042292710072343 0.31992337164750956 0.9329608938547486 0.7805933250927071\n"
     ]
    }
   ],
   "source": [
    "acc = (tp+tn)/(tp+fp+fn+tn)\n",
    "err = (fp+fn)/(tp+fp+fn+tn)\n",
    "pre = tp/(tp+fp)\n",
    "rec = tp/(tp+fn)\n",
    "spe = tn/(tn+fp)\n",
    "\n",
    "print (acc, err, pre, rec, spe)"
   ]
  },
  {
   "cell_type": "markdown",
   "metadata": {},
   "source": [
    "<b> Accuracy = 80% and Error rate = 20%: </b> This means that 80% of the numbers all well classified.\n",
    "<br>\n",
    "<b> Precision (PPV) = 32%: </b> This means that the proportion of positive results is low. This is because the negative values are considerably more than positive values. \n",
    "<br>\n",
    "<b> Recall (TPR) = 93%: </b> This means that the proportion of actual positives that are correctly identified as such is very high. \n",
    "<br>\n",
    "<b> Specificity (TNR) = 78%: </b> This means that the proportion of actual negatives that are correctly identified as such is high."
   ]
  },
  {
   "cell_type": "markdown",
   "metadata": {},
   "source": [
    "# 9"
   ]
  },
  {
   "cell_type": "markdown",
   "metadata": {},
   "source": [
    "Print some nines"
   ]
  },
  {
   "cell_type": "code",
   "execution_count": 213,
   "metadata": {},
   "outputs": [
    {
     "data": {
      "text/plain": [
       "<Figure size 432x288 with 0 Axes>"
      ]
     },
     "metadata": {},
     "output_type": "display_data"
    }
   ],
   "source": [
    "targets = digits.target \n",
    "indices = [i for i,x in enumerate(targets) if x == 9] #identifying seven indices\n",
    "#indices\n",
    "\n",
    "pl.gray() # Queremos las imágenes en grises\n",
    "for i in indices:\n",
    "    #print(digits.images[i])  # Imprimir una imagen dada\n",
    "    #pl.gray() # Queremos las imágenes en grises\n",
    "    #pl.matshow(digits.images[i]) # Imprimir una imagen dada\n",
    "    pass"
   ]
  },
  {
   "cell_type": "markdown",
   "metadata": {},
   "source": [
    "There are some patterns identified: \n",
    "    1. The first column is black (number less than or equal to 3). \n",
    "    2.1. The upper-right corner (positions [0][7], [0][6], [1][7]) is black (number less than or equal to 3). \n",
    "    2.2. The lower-right corner (positions [5][7], [6][7], [7][7], [7][6], [7][5], [6][6]) is black (number less than or equal to 3). \n",
    "    3.1 There is a black (number less than or equal to 3) line in the 5th row until the 4th column (pos [4][3]).\n",
    "    3.2 There is a black (number less than or equal to 3) line in the 6th row until the 4th column (pos [5][3]). "
   ]
  },
  {
   "cell_type": "code",
   "execution_count": 214,
   "metadata": {},
   "outputs": [],
   "source": [
    "#def is_almost_black(lista): \n",
    " #   return all(number <= 5 for number in lista)"
   ]
  },
  {
   "cell_type": "code",
   "execution_count": 215,
   "metadata": {},
   "outputs": [],
   "source": [
    "def is_nine(digit):\n",
    "    #print (digit)\n",
    "    \n",
    "    #1. The first column is black (number less than or equal to 3).\n",
    "    \n",
    "    first_column = column(digit, 0)\n",
    "    fcb = is_black(first_column) #first column black\n",
    "    #print(fcb)\n",
    "\n",
    "    #2.1. The upper-right corner (positions [0][7], [0][6], [1][7]) is black (number less than or equal to 3). \n",
    "    \n",
    "    ur_corner= [digit[0][7], digit[0][6], digit[1][7]]\n",
    "    urb= is_black(ur_corner)\n",
    "    #print(urb)\n",
    "    \n",
    "    #2.2. The lower-right corner (positions [5][7], [6][7], [7][7], [7][6], [7][5], [6][6]) is black (number less than or equal to 3). \n",
    "    \n",
    "    lr_corner= [digit[5][7], digit[6][7], digit[7][7], digit[7][6], digit[7][5], digit[6][6]]\n",
    "    lrb= is_black(lr_corner)\n",
    "    #print(lrb)\n",
    "    \n",
    "    #2 \n",
    "    \n",
    "    sc = urb or lrb  #second condition\n",
    "\n",
    "    #3.1. There is a almost black (number less than or equal to 5) line in the 5th row until the 4th column (pos [4][3]).\n",
    "\n",
    "    fifth_row = [digit[4][0], digit[4][1], digit[4][2], digit[4][3]]\n",
    "    frb = is_black(fifth_row)\n",
    "    #print(frb)\n",
    "\n",
    "    #3.2. There is a almost black (number less than or equal to 5) line in the 6th row until the 4th column (pos [5][3]). \n",
    "\n",
    "    sixth_row = [digit[5][0], digit[5][1], digit[5][2], digit[5][3]]\n",
    "    srb = is_black(sixth_row)\n",
    "    #print(srb)\n",
    "\n",
    "    #3\n",
    "\n",
    "    tc = frb or srb # third condition\n",
    "    #print(tc)\n",
    "\n",
    "    result= fcb and sc and tc\n",
    "    return result\n",
    "    #print(result)"
   ]
  },
  {
   "cell_type": "code",
   "execution_count": 216,
   "metadata": {},
   "outputs": [],
   "source": [
    "#is_nine(digit)"
   ]
  },
  {
   "cell_type": "markdown",
   "metadata": {},
   "source": [
    "Confusion Matrix"
   ]
  },
  {
   "cell_type": "code",
   "execution_count": 217,
   "metadata": {},
   "outputs": [
    {
     "name": "stdout",
     "output_type": "stream",
     "text": [
      "156 350 24 1267\n"
     ]
    }
   ],
   "source": [
    "y_true= [digit==9 for digit in digits.target]\n",
    "y_pred = [is_nine(digit) for digit in digits.images]\n",
    "#print (y_pred)\n",
    "tn, fp, fn, tp = confusion_matrix(y_true, y_pred).ravel()\n",
    "print(tp, fp, fn, tn)"
   ]
  },
  {
   "cell_type": "code",
   "execution_count": 218,
   "metadata": {},
   "outputs": [
    {
     "name": "stdout",
     "output_type": "stream",
     "text": [
      "0.7918753478018921 0.20812465219810797 0.308300395256917 0.8666666666666667 0.7835497835497836\n"
     ]
    }
   ],
   "source": [
    "acc = (tp+tn)/(tp+fp+fn+tn)\n",
    "err = (fp+fn)/(tp+fp+fn+tn)\n",
    "pre = tp/(tp+fp)\n",
    "rec = tp/(tp+fn)\n",
    "spe = tn/(tn+fp)\n",
    "\n",
    "print (acc, err, pre, rec, spe)"
   ]
  },
  {
   "cell_type": "markdown",
   "metadata": {},
   "source": [
    "<b> Accuracy = 79% and Error rate = 21%: </b> This means that 79% of the numbers all well classified.\n",
    "<br>\n",
    "<b> Precision (PPV) = 31%: </b> This means that the proportion of positive results is low. This is because the negative values are considerably more than positive values. \n",
    "<br>\n",
    "<b> Recall (TPR) = 87%: </b> This means that the proportion of actual positives that are correctly identified as such is considerably high. \n",
    "<br>\n",
    "<b> Specificity (TNR) = 78%: </b> This means that the proportion of actual negatives that are correctly identified as such is high."
   ]
  }
 ],
 "metadata": {
  "kernelspec": {
   "display_name": "Python 3",
   "language": "python",
   "name": "python3"
  },
  "language_info": {
   "codemirror_mode": {
    "name": "ipython",
    "version": 3
   },
   "file_extension": ".py",
   "mimetype": "text/x-python",
   "name": "python",
   "nbconvert_exporter": "python",
   "pygments_lexer": "ipython3",
   "version": "3.7.0"
  }
 },
 "nbformat": 4,
 "nbformat_minor": 2
}
