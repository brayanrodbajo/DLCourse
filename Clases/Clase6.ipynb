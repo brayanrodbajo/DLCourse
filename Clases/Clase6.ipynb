{
 "cells": [
  {
   "cell_type": "markdown",
   "metadata": {},
   "source": [
    "### Preguntas"
   ]
  },
  {
   "cell_type": "markdown",
   "metadata": {},
   "source": [
    "1. ¿Por qué con tensores es necesario aplanar?"
   ]
  },
  {
   "cell_type": "markdown",
   "metadata": {},
   "source": [
    "R/ Porque cuando se trabaja con capas densas, se trabaja con el número de neuronas solamente, no ancho por alto. Cuando se trabaja con convoluciones, sí. "
   ]
  },
  {
   "cell_type": "markdown",
   "metadata": {},
   "source": [
    "### Redes Convolucionales"
   ]
  },
  {
   "cell_type": "markdown",
   "metadata": {},
   "source": [
    "Hasta ahora, cada neurona depende de todas las neuronas de la capa anterior. Las redes convolucionales intentan localizar dependencias: Que una neurona no dependa de toda la capa anterior sino de una porción no más. Sirve para reducir overfiting. \n",
    "\n",
    "Cuando hay múltiples canales de entrada, se aplana a un solo canal. \n",
    "\n",
    "Se hacen múltiples filtros, por lo general, lo que define la profundidad de la capa. \n",
    "\n",
    "Generalmente se define un mismo stride para las dos dimensiones de la imagen. \n",
    "\n",
    "Importante saber de qué tamaño es el feature map."
   ]
  },
  {
   "cell_type": "markdown",
   "metadata": {},
   "source": [
    "<b>Dropout</b>: Para capas densas. Para evitar overfitting."
   ]
  },
  {
   "cell_type": "markdown",
   "metadata": {},
   "source": [
    "Cuando uso demasiadas capas, se desvanece el gradiente. A veces es mejor un modelo de 20 capas que uno de 56 capas. "
   ]
  },
  {
   "cell_type": "raw",
   "metadata": {},
   "source": [
    "_________________________________________________________________\n",
    "Layer (type)                 Output Shape              Param #   \n",
    "=================================================================\n",
    "conv2d_4 (Conv2D)            (None, 26, 26, 32)        320       \n",
    "_________________________________________________________________\n",
    "max_pooling2d_3 (MaxPooling2 (None, 13, 13, 32)        0         \n",
    "_________________________________________________________________\n",
    "conv2d_5 (Conv2D)            (None, 11, 11, 64)        18496     \n",
    "_________________________________________________________________\n",
    "max_pooling2d_4 (MaxPooling2 (None, 5, 5, 64)          0         \n",
    "_________________________________________________________________\n",
    "conv2d_6 (Conv2D)            (None, 3, 3, 64)          36928     \n",
    "================================================================="
   ]
  },
  {
   "cell_type": "markdown",
   "metadata": {},
   "source": [
    "<b>Número de parámetros de cada capa:</b> En la primera, como la convolución es 3x3, se reduce en 2 la dimensionalidad de cada uno y, como son 32 filtros distintos, son 32 rango 3. "
   ]
  }
 ],
 "metadata": {
  "kernelspec": {
   "display_name": "Python 3",
   "language": "python",
   "name": "python3"
  },
  "language_info": {
   "codemirror_mode": {
    "name": "ipython",
    "version": 3
   },
   "file_extension": ".py",
   "mimetype": "text/x-python",
   "name": "python",
   "nbconvert_exporter": "python",
   "pygments_lexer": "ipython3",
   "version": "3.6.5"
  }
 },
 "nbformat": 4,
 "nbformat_minor": 2
}
