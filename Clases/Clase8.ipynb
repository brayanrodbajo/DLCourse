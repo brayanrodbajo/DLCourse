{
 "cells": [
  {
   "cell_type": "markdown",
   "metadata": {},
   "source": [
    "## LSTM"
   ]
  },
  {
   "cell_type": "markdown",
   "metadata": {},
   "source": [
    "Relevancia se actualiza (aprende) mediante <b>gradient descent</b>. Es decir, siempre va optimizando la función de costo. "
   ]
  },
  {
   "cell_type": "markdown",
   "metadata": {},
   "source": [
    "timestep = tamaño de la ventana (número de records anteriores que me tengo que acordar (el tamaño de la ventana en el que tengo que tomar )).\n",
    "\n",
    "Ventana de 1 = El X(1) me debe permitir llegar al siguiente X(2). El Y para X(1) es X(2).\n",
    " \n",
    "Ventana de 2 = El X(1) y el X(2) me debe permitir llegar al X(3).\n",
    "\n",
    "Para dividir entre train y test no se aleatorizan porque tenemos la dimensión tiempo y debemos cerciorarnos que mantengan el orden.\n",
    "\n",
    "El valor queda en el feature. \n",
    "\n",
    "Cuando predecimos un número solo nos sirve el error. "
   ]
  },
  {
   "cell_type": "code",
   "execution_count": null,
   "metadata": {},
   "outputs": [],
   "source": []
  }
 ],
 "metadata": {
  "kernelspec": {
   "display_name": "Python 3",
   "language": "python",
   "name": "python3"
  },
  "language_info": {
   "codemirror_mode": {
    "name": "ipython",
    "version": 3
   },
   "file_extension": ".py",
   "mimetype": "text/x-python",
   "name": "python",
   "nbconvert_exporter": "python",
   "pygments_lexer": "ipython3",
   "version": "3.6.5"
  }
 },
 "nbformat": 4,
 "nbformat_minor": 2
}
