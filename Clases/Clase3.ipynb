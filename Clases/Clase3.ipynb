{
 "cells": [
  {
   "cell_type": "markdown",
   "metadata": {},
   "source": [
    "### Preguntas"
   ]
  },
  {
   "cell_type": "markdown",
   "metadata": {},
   "source": [
    "1. ¿Por qué se adiciona una constante en el modelo de statsmodels?"
   ]
  },
  {
   "cell_type": "markdown",
   "metadata": {},
   "source": [
    "### Respuesta"
   ]
  },
  {
   "cell_type": "markdown",
   "metadata": {},
   "source": [
    "1. NO INTERESA PORQUE ES PARA SABER QUE ESTADÍSTICAMENTE SE CUMPLEN LOS REQUISITOS PARA QUE LA REGRESIÓN LINEAL FUNCIONA: Para obtener los valores p de las pruebas de hipótesis (saber si mi w_1 es significativamente diferente de 0). "
   ]
  },
  {
   "cell_type": "markdown",
   "metadata": {},
   "source": [
    "### Regularización"
   ]
  },
  {
   "cell_type": "markdown",
   "metadata": {},
   "source": [
    "Para prevenir el overfitting.\n",
    "\n",
    "L2 (Ridge) hace que los coeficientes sean chiquitos (nunca 0). L1 (Lasso), además, hace que los que son menos importantes valgan 0\n",
    "\n",
    "Si $\\lambda = 0$ no estoy regularizando.\n",
    "\n",
    "Se le agregan términos a la actualización de los coeficientes (step)"
   ]
  },
  {
   "cell_type": "markdown",
   "metadata": {},
   "source": [
    "### Regresión Logística"
   ]
  },
  {
   "cell_type": "markdown",
   "metadata": {},
   "source": [
    "Función sigmoide para transformar regresión lineal a logística.\n",
    "\n",
    "Se le hace la regresión lineal, pero luego pasa por un sigmoide (diap 17)\n",
    "\n",
    "En regresión logística la relación lineal es entre las vars independientes y la ratio de probs de la variable dependiente de las clases y para regresión lineal la relación es entre dependientes. "
   ]
  },
  {
   "cell_type": "markdown",
   "metadata": {},
   "source": [
    "#### Costo"
   ]
  },
  {
   "cell_type": "markdown",
   "metadata": {},
   "source": [
    "El costo de la función sigmoide no es convexa. Hay varios mínimos locales. Se usa CATEGORICAL (BINARY) CROSS ENTROPY."
   ]
  },
  {
   "cell_type": "markdown",
   "metadata": {},
   "source": [
    "### Softmax"
   ]
  },
  {
   "cell_type": "markdown",
   "metadata": {},
   "source": [
    "Generalización de Log Reg."
   ]
  },
  {
   "cell_type": "markdown",
   "metadata": {},
   "source": [
    "## Redes Neuronales."
   ]
  },
  {
   "cell_type": "markdown",
   "metadata": {},
   "source": [
    "Regresión Lineal se va a usar solamente en la última capa cuando necesito hacer regresión."
   ]
  },
  {
   "cell_type": "markdown",
   "metadata": {},
   "source": [
    "En Sigmoid los valores de entrada deben ser en un rango pequeño porque si es muy pequeño o muy grande, las derivadas son 0."
   ]
  },
  {
   "cell_type": "markdown",
   "metadata": {},
   "source": [
    "### Pretraining"
   ]
  },
  {
   "cell_type": "markdown",
   "metadata": {},
   "source": [
    "Siempre hay que hacer escalamiento."
   ]
  },
  {
   "cell_type": "markdown",
   "metadata": {},
   "source": [
    "Los a de la capa 0, son los inputs."
   ]
  },
  {
   "cell_type": "code",
   "execution_count": 4,
   "metadata": {},
   "outputs": [],
   "source": [
    "X  #data (columnas: ejemplos o registros, filas:dimensiones)\n",
    "a0 = X # matriz input, número de registros como columnas y número de variables independientes como filas. Filas = neuronas (vars ind). Columnas= registros."
   ]
  },
  {
   "cell_type": "markdown",
   "metadata": {},
   "source": [
    "<b>Offtopic</b>: Cuando la variable no es ordinal, (no tiene orden) debemos hacer tantas dimensiones como categorías existen."
   ]
  },
  {
   "cell_type": "markdown",
   "metadata": {},
   "source": [
    "<b>Offtopic</b>: Cuando R2 adj (test) está muy separado R2 adj (train), estamos en OVERFITTING. Esto, en regresión lineal puede ser debido a que se usan muchas variables; en redes neuronales, debido al número de neuronas y capas. Generalmente, entre más capas mejor que más neuronas."
   ]
  },
  {
   "cell_type": "markdown",
   "metadata": {},
   "source": [
    "<b>Offtopic: </b> Bias, sesgo = Intercepto en la ordenada. "
   ]
  }
 ],
 "metadata": {
  "kernelspec": {
   "display_name": "Python 3",
   "language": "python",
   "name": "python3"
  },
  "language_info": {
   "codemirror_mode": {
    "name": "ipython",
    "version": 3
   },
   "file_extension": ".py",
   "mimetype": "text/x-python",
   "name": "python",
   "nbconvert_exporter": "python",
   "pygments_lexer": "ipython3",
   "version": "3.7.0"
  }
 },
 "nbformat": 4,
 "nbformat_minor": 2
}
