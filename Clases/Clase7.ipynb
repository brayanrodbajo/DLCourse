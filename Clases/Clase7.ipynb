{
 "cells": [
  {
   "cell_type": "markdown",
   "metadata": {},
   "source": [
    "## Convoluciones"
   ]
  },
  {
   "cell_type": "markdown",
   "metadata": {},
   "source": [
    "Checkpoint: Que el fit me diga en qué época obtuvo el mayor validation accuracy o loss y me guarde esos pesos.   \n",
    "Bottleneck: Features de las imágenes transformadas en el disco duro para no tener que volver a calcularlas en volatilidad. "
   ]
  },
  {
   "cell_type": "markdown",
   "metadata": {},
   "source": [
    "## Secuencias"
   ]
  },
  {
   "cell_type": "markdown",
   "metadata": {},
   "source": [
    "Se truncan o rellenan las secuencias porque todas tienen que ser del mismo tamaño (pad_sequence).\n",
    "\n",
    "Los pesos de cada palabra son asignados al comienzo aleatoriamente (cantidad=número de dimensiones (hyperparameter)), en el caso de que no se usen embeddings pre entrenados. En caso contrario, se asignan los pesos que nos dé para cada palabra de nosotros y se congelan (trainable= False). "
   ]
  }
 ],
 "metadata": {
  "kernelspec": {
   "display_name": "Python 3",
   "language": "python",
   "name": "python3"
  },
  "language_info": {
   "codemirror_mode": {
    "name": "ipython",
    "version": 3
   },
   "file_extension": ".py",
   "mimetype": "text/x-python",
   "name": "python",
   "nbconvert_exporter": "python",
   "pygments_lexer": "ipython3",
   "version": "3.6.5"
  }
 },
 "nbformat": 4,
 "nbformat_minor": 2
}
