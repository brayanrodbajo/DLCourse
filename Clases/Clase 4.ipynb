{
 "cells": [
  {
   "cell_type": "markdown",
   "metadata": {},
   "source": [
    "## Redes Neuronales"
   ]
  },
  {
   "cell_type": "markdown",
   "metadata": {},
   "source": [
    "El número de neuronas de la primera capa es el número de features (filas) que tenga cada instancia. \n",
    "\n",
    "Primera capa NO tiene parámetros (W, b)\n",
    "\n",
    "Se hace una reducción gradual del learning rate para que al comienzo varíe más y a lo ultimo menos"
   ]
  },
  {
   "cell_type": "markdown",
   "metadata": {},
   "source": [
    "### Mini batches"
   ]
  },
  {
   "cell_type": "markdown",
   "metadata": {},
   "source": [
    "Para poder llegar a la actualización de una época, debo haber hecho forward y backward para todos los ejemplos o instancias. \n",
    "Calculo forward y backward para un baby set de datos y actualizo la matriz de pesos W para cada baby set. Y no tengo que terminar la época para actualizar mi matriz de pesos. Entonces con los siguientes datos voy a tener una W más cercana o al menos a lo lejos se va acercando."
   ]
  }
 ],
 "metadata": {
  "kernelspec": {
   "display_name": "Python 3",
   "language": "python",
   "name": "python3"
  },
  "language_info": {
   "codemirror_mode": {
    "name": "ipython",
    "version": 3
   },
   "file_extension": ".py",
   "mimetype": "text/x-python",
   "name": "python",
   "nbconvert_exporter": "python",
   "pygments_lexer": "ipython3",
   "version": "3.7.0"
  }
 },
 "nbformat": 4,
 "nbformat_minor": 2
}
