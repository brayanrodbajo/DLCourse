{
 "cells": [
  {
   "cell_type": "markdown",
   "metadata": {},
   "source": [
    "Escalabilidad = Capacidad para darle un pedazo del programa a cada procesador para que ejecute.\n",
    "\n",
    "En ML lo que interesa es el poder de predicción. En Estadística lo que interesa es la inferencia. \n",
    "\n",
    "Dependiendo del contexto equivocarse con FN a equivocarse FP es más grave uno que otro.\n",
    "\n",
    "Si tengo un Kappa negativo, es porque mi clasificador es peor que el baseline (los casos en los que se cumple la mayoría). kappa = 0, mi clasificador es igual al baseline. kappa = 1, mi clasificador es el mejor. \n",
    "\n",
    "OA = Accuracy. \n",
    "\n",
    "Accuracy del baseline = 70% ... La clase mayoritaria, tiene el 70% de los casos. \n",
    "\n",
    "Accuracy de mi classifier = 85%. \n",
    "\n",
    "AC = Qué tan independientes son mis predicciones de la realidad. A cuántas les pegué porque eran suerte y a cuántas les pegué porque mi modelo estaba acertado."
   ]
  },
  {
   "cell_type": "markdown",
   "metadata": {},
   "source": [
    "### Sesgo y varianza"
   ]
  },
  {
   "cell_type": "markdown",
   "metadata": {},
   "source": [
    "Alto sesgo y alta varianza son fuente de error. "
   ]
  },
  {
   "cell_type": "markdown",
   "metadata": {},
   "source": [
    "### Protocolos de evaluación"
   ]
  },
  {
   "cell_type": "markdown",
   "metadata": {},
   "source": [
    "Para el k-fold cross validation a veces no se pueden hacer muchas iteraciones en DL porque se demora mucho. "
   ]
  },
  {
   "cell_type": "markdown",
   "metadata": {},
   "source": [
    "### Descenso de gradiente"
   ]
  },
  {
   "cell_type": "markdown",
   "metadata": {},
   "source": [
    "La dirección de mayor crecimiento o decrecimiento de una función a partir de derivadas parciales (me da la dirección respecto a los parámetros). \n",
    "\n",
    "La (i) determina la instancia o registro en la que estoy."
   ]
  },
  {
   "cell_type": "code",
   "execution_count": null,
   "metadata": {},
   "outputs": [],
   "source": []
  }
 ],
 "metadata": {
  "kernelspec": {
   "display_name": "Python 3",
   "language": "python",
   "name": "python3"
  },
  "language_info": {
   "codemirror_mode": {
    "name": "ipython",
    "version": 3
   },
   "file_extension": ".py",
   "mimetype": "text/x-python",
   "name": "python",
   "nbconvert_exporter": "python",
   "pygments_lexer": "ipython3",
   "version": "3.7.0"
  }
 },
 "nbformat": 4,
 "nbformat_minor": 2
}
