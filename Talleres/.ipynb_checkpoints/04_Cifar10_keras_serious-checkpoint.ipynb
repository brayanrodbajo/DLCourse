{
 "cells": [
  {
   "cell_type": "markdown",
   "metadata": {},
   "source": [
    "## Obtención y preparación del dataset"
   ]
  },
  {
   "cell_type": "markdown",
   "metadata": {},
   "source": [
    "Los datasets serán representados como tensores.\n",
    "El tensor de entrada a la red tendra rango 4: número de imágenes, alto de la imagen, anchon de la imagen y canales de color.\n",
    "\n",
    "Por ejemplo, En el caso del del tensor de entrenamiento (train_images) tenemos el primer rango de 60000 dimensiones, pues hay 60000 imágenes. Los 2 siguientes rangos son los que dan el tamaño de las imágenes (de 32 dimensiones cada uno). El 4o rango que tendrá el canal de color tendrá tres dimensiones (RGB). Cada valor del tensor de 32x32x3 es una valor en escala de 0 a 255.\n",
    "\n",
    "Necesitamos que los datos de entrenamiento y test estén en el formato dado por la capa de entrada de la red que vamos a definir."
   ]
  },
  {
   "cell_type": "code",
   "execution_count": 1,
   "metadata": {},
   "outputs": [
    {
     "name": "stderr",
     "output_type": "stream",
     "text": [
      "C:\\Users\\bryan\\Anaconda3\\lib\\site-packages\\h5py\\__init__.py:36: FutureWarning: Conversion of the second argument of issubdtype from `float` to `np.floating` is deprecated. In future, it will be treated as `np.float64 == np.dtype(float).type`.\n",
      "  from ._conv import register_converters as _register_converters\n",
      "Using TensorFlow backend.\n"
     ]
    }
   ],
   "source": [
    "import keras\n",
    "import matplotlib.pyplot as plt\n",
    "from keras.datasets import cifar10\n",
    "from keras.utils import to_categorical\n",
    "\n",
    "(train_images, train_labels), (test_images, test_labels) = cifar10.load_data()"
   ]
  },
  {
   "cell_type": "code",
   "execution_count": 2,
   "metadata": {},
   "outputs": [
    {
     "name": "stdout",
     "output_type": "stream",
     "text": [
      "(50000, 32, 32, 3) (50000, 1) (10000, 32, 32, 3) (10000, 1)\n"
     ]
    }
   ],
   "source": [
    "print (train_images.shape, train_labels.shape, test_images.shape, test_labels.shape)"
   ]
  },
  {
   "cell_type": "code",
   "execution_count": 8,
   "metadata": {},
   "outputs": [],
   "source": [
    "# print(train_images)"
   ]
  },
  {
   "cell_type": "markdown",
   "metadata": {},
   "source": [
    "Modificamos las escalas de colores (0 a 255) con valores en una escala que vaya de 0 a 1 y que sean entonces de tipo flotantes.\n",
    "\n",
    "Finalmente, convertimos los labels de arrays one hot encoded.\n"
   ]
  },
  {
   "cell_type": "code",
   "execution_count": 3,
   "metadata": {},
   "outputs": [],
   "source": [
    "train_images = train_images.astype('float32') / 255\n",
    "test_images = test_images.astype('float32') / 255\n",
    "\n",
    "train_labels = to_categorical(train_labels)\n",
    "test_labels = to_categorical(test_labels)"
   ]
  },
  {
   "cell_type": "markdown",
   "metadata": {},
   "source": [
    "## Definición del modelo"
   ]
  },
  {
   "cell_type": "markdown",
   "metadata": {},
   "source": [
    "Vamos a definir un modelo:\n",
    "* que recibe un tensor con las instancias de imágen con tres ejes con la dimensionalidad (32, 32, 3), \n",
    "* con 3 capas convolucionales 2D, todas con filtros 3x3 y función de activación RELU; la primera con 32 filtros, la segunda con 64 filtros, y la tercera con 128 filtros.\n",
    "* con 3 capas intermedias de MAX pooling que toman las salidas de las capas convolucionales.\n",
    "* con una capa Flatten que permite cambiar la representación de las salidas de las capas convolucionales a un tensor de un solo eje\n",
    "* con dos capas Dense, fully connected, la primera con 512 neuronas y RELU, la segunda, la capa de salida, con 10 neuronas que utilizan una función softmax para clasificar las instancias en diez clases.\n",
    "* una capa de dropout entre las capas densas con probabilidad de 30%."
   ]
  },
  {
   "cell_type": "code",
   "execution_count": 10,
   "metadata": {},
   "outputs": [],
   "source": [
    "from keras import layers\n",
    "from keras import models\n",
    "\n",
    "model = models.Sequential()\n",
    "model.add(layers.Conv2D(32, (3, 3), activation='relu',\n",
    "                        input_shape=(32, 32, 3)))\n",
    "model.add(layers.MaxPooling2D((2, 2)))\n",
    "model.add(layers.Conv2D(64, (3, 3), activation='relu'))\n",
    "model.add(layers.MaxPooling2D((2, 2)))\n",
    "model.add(layers.Conv2D(128, (3, 3), activation='relu'))\n",
    "model.add(layers.MaxPooling2D((2, 2)))\n",
    "model.add(layers.Flatten())\n",
    "model.add(layers.Dense(512, activation='relu'))\n",
    "model.add(layers.Dropout(0.3))\n",
    "model.add(layers.Dense(10, activation='softmax'))"
   ]
  },
  {
   "cell_type": "code",
   "execution_count": 11,
   "metadata": {
    "scrolled": false
   },
   "outputs": [
    {
     "name": "stdout",
     "output_type": "stream",
     "text": [
      "_________________________________________________________________\n",
      "Layer (type)                 Output Shape              Param #   \n",
      "=================================================================\n",
      "conv2d_7 (Conv2D)            (None, 30, 30, 32)        896       \n",
      "_________________________________________________________________\n",
      "max_pooling2d_7 (MaxPooling2 (None, 15, 15, 32)        0         \n",
      "_________________________________________________________________\n",
      "conv2d_8 (Conv2D)            (None, 13, 13, 64)        18496     \n",
      "_________________________________________________________________\n",
      "max_pooling2d_8 (MaxPooling2 (None, 6, 6, 64)          0         \n",
      "_________________________________________________________________\n",
      "conv2d_9 (Conv2D)            (None, 4, 4, 128)         73856     \n",
      "_________________________________________________________________\n",
      "max_pooling2d_9 (MaxPooling2 (None, 2, 2, 128)         0         \n",
      "_________________________________________________________________\n",
      "flatten_3 (Flatten)          (None, 512)               0         \n",
      "_________________________________________________________________\n",
      "dense_5 (Dense)              (None, 512)               262656    \n",
      "_________________________________________________________________\n",
      "dropout_3 (Dropout)          (None, 512)               0         \n",
      "_________________________________________________________________\n",
      "dense_6 (Dense)              (None, 10)                5130      \n",
      "=================================================================\n",
      "Total params: 361,034\n",
      "Trainable params: 361,034\n",
      "Non-trainable params: 0\n",
      "_________________________________________________________________\n"
     ]
    }
   ],
   "source": [
    "model.summary()"
   ]
  },
  {
   "cell_type": "markdown",
   "metadata": {},
   "source": [
    "## Entrenamiento del modelo"
   ]
  },
  {
   "cell_type": "markdown",
   "metadata": {},
   "source": [
    "El modelo final tiene en total 361.034 parámetros. Lo compilamos utilizando un optimizador **rmsprop** y una función de activación **categorical_cross_entropy**, y lo entrenamos con 5 épocas con el set de entrenamiento ya procesado."
   ]
  },
  {
   "cell_type": "code",
   "execution_count": 12,
   "metadata": {},
   "outputs": [
    {
     "name": "stdout",
     "output_type": "stream",
     "text": [
      "Train on 45000 samples, validate on 5000 samples\n",
      "Epoch 1/20\n",
      "45000/45000 [==============================] - 136s 3ms/step - loss: 1.6389 - acc: 0.4064 - val_loss: 1.6987 - val_acc: 0.4012\n",
      "Epoch 2/20\n",
      "45000/45000 [==============================] - 134s 3ms/step - loss: 1.2228 - acc: 0.5656 - val_loss: 1.3559 - val_acc: 0.5232\n",
      "Epoch 3/20\n",
      "45000/45000 [==============================] - 136s 3ms/step - loss: 1.0308 - acc: 0.6404 - val_loss: 1.0304 - val_acc: 0.6394\n",
      "Epoch 4/20\n",
      "45000/45000 [==============================] - 135s 3ms/step - loss: 0.9008 - acc: 0.6873 - val_loss: 1.3783 - val_acc: 0.5718\n",
      "Epoch 5/20\n",
      "45000/45000 [==============================] - 134s 3ms/step - loss: 0.8031 - acc: 0.7223 - val_loss: 1.0155 - val_acc: 0.6558\n",
      "Epoch 6/20\n",
      "45000/45000 [==============================] - 134s 3ms/step - loss: 0.7236 - acc: 0.7483 - val_loss: 0.9656 - val_acc: 0.6772\n",
      "Epoch 7/20\n",
      "45000/45000 [==============================] - 136s 3ms/step - loss: 0.6580 - acc: 0.7708 - val_loss: 1.0477 - val_acc: 0.6600\n",
      "Epoch 8/20\n",
      "45000/45000 [==============================] - 124s 3ms/step - loss: 0.6039 - acc: 0.7914 - val_loss: 0.9888 - val_acc: 0.7044\n",
      "Epoch 9/20\n",
      "45000/45000 [==============================] - 111s 2ms/step - loss: 0.5603 - acc: 0.8030 - val_loss: 1.0519 - val_acc: 0.6782\n",
      "Epoch 10/20\n",
      "45000/45000 [==============================] - 116s 3ms/step - loss: 0.5250 - acc: 0.8171 - val_loss: 0.9602 - val_acc: 0.7048\n",
      "Epoch 11/20\n",
      "45000/45000 [==============================] - 120s 3ms/step - loss: 0.4931 - acc: 0.8313 - val_loss: 0.9333 - val_acc: 0.7440\n",
      "Epoch 12/20\n",
      "45000/45000 [==============================] - 119s 3ms/step - loss: 0.4719 - acc: 0.8381 - val_loss: 1.2424 - val_acc: 0.6882\n",
      "Epoch 13/20\n",
      "45000/45000 [==============================] - 123s 3ms/step - loss: 0.4570 - acc: 0.8430 - val_loss: 1.1575 - val_acc: 0.6894\n",
      "Epoch 14/20\n",
      "45000/45000 [==============================] - 125s 3ms/step - loss: 0.4411 - acc: 0.8511 - val_loss: 1.3011 - val_acc: 0.7294\n",
      "Epoch 15/20\n",
      "45000/45000 [==============================] - 116s 3ms/step - loss: 0.4391 - acc: 0.8529 - val_loss: 1.6046 - val_acc: 0.6502\n",
      "Epoch 16/20\n",
      "45000/45000 [==============================] - 123s 3ms/step - loss: 0.4372 - acc: 0.8545 - val_loss: 1.3251 - val_acc: 0.7372\n",
      "Epoch 17/20\n",
      "45000/45000 [==============================] - 118s 3ms/step - loss: 0.4323 - acc: 0.8569 - val_loss: 1.4206 - val_acc: 0.7100\n",
      "Epoch 18/20\n",
      "45000/45000 [==============================] - 117s 3ms/step - loss: 0.4323 - acc: 0.8567 - val_loss: 1.2267 - val_acc: 0.7384\n",
      "Epoch 19/20\n",
      "45000/45000 [==============================] - 113s 3ms/step - loss: 0.4261 - acc: 0.8588 - val_loss: 1.4010 - val_acc: 0.6912\n",
      "Epoch 20/20\n",
      "45000/45000 [==============================] - 114s 3ms/step - loss: 0.4416 - acc: 0.8569 - val_loss: 1.4168 - val_acc: 0.6966\n"
     ]
    }
   ],
   "source": [
    "model.compile(optimizer='rmsprop',\n",
    "              loss='categorical_crossentropy',\n",
    "              metrics=['accuracy'])\n",
    "history = model.fit(train_images, train_labels, epochs=20, batch_size=64, validation_split=0.1)"
   ]
  },
  {
   "cell_type": "markdown",
   "metadata": {},
   "source": [
    "Grabamos el modelo a disco"
   ]
  },
  {
   "cell_type": "code",
   "execution_count": 46,
   "metadata": {},
   "outputs": [],
   "source": [
    "model_path = \"cifar10.h5\"\n",
    "model.save(model_path)"
   ]
  },
  {
   "cell_type": "markdown",
   "metadata": {},
   "source": [
    "## Evaluación de los resultados del modelo"
   ]
  },
  {
   "cell_type": "markdown",
   "metadata": {},
   "source": [
    "Vamos a analizar la evaluación del rendimiento del modelo durante las épocas de aprendizaje"
   ]
  },
  {
   "cell_type": "code",
   "execution_count": 47,
   "metadata": {},
   "outputs": [
    {
     "data": {
      "image/png": "[encoded data removed]",
      "text/plain": [
       "<Figure size 432x288 with 1 Axes>"
      ]
     },
     "metadata": {},
     "output_type": "display_data"
    },
    {
     "data": {
      "image/png": "[encoded data removed]",
      "text/plain": [
       "<Figure size 432x288 with 1 Axes>"
      ]
     },
     "metadata": {},
     "output_type": "display_data"
    }
   ],
   "source": [
    "import matplotlib.pyplot as plt\n",
    "\n",
    "acc = history.history['acc']\n",
    "val_acc = history.history['val_acc']\n",
    "loss = history.history['loss']\n",
    "val_loss = history.history['val_loss']\n",
    "\n",
    "epochs = range(len(acc))\n",
    "\n",
    "plt.plot(epochs, acc, 'bo', label='Training acc')\n",
    "plt.plot(epochs, val_acc, 'b', label='Validation acc')\n",
    "plt.title('Training and validation accuracy')\n",
    "plt.legend()\n",
    "plt.show()\n",
    "\n",
    "plt.plot(epochs, loss, 'bo', label='Training loss')\n",
    "plt.plot(epochs, val_loss, 'b', label='Validation loss')\n",
    "plt.title('Training and validation loss')\n",
    "plt.legend()\n",
    "plt.show()"
   ]
  },
  {
   "cell_type": "markdown",
   "metadata": {},
   "source": [
    "En estas gráficas observamos que hay overfitting, a pesar de dropout 30%."
   ]
  },
  {
   "cell_type": "markdown",
   "metadata": {},
   "source": [
    "## Evaluación de los resultados del modelo"
   ]
  },
  {
   "cell_type": "code",
   "execution_count": 48,
   "metadata": {},
   "outputs": [
    {
     "name": "stdout",
     "output_type": "stream",
     "text": [
      "10000/10000 [==============================] - 7s 734us/step\n"
     ]
    }
   ],
   "source": [
    "test_loss, test_acc = model.evaluate(test_images, test_labels)"
   ]
  },
  {
   "cell_type": "code",
   "execution_count": 49,
   "metadata": {},
   "outputs": [
    {
     "data": {
      "text/plain": [
       "0.6931"
      ]
     },
     "execution_count": 49,
     "metadata": {},
     "output_type": "execute_result"
    }
   ],
   "source": [
    "test_acc"
   ]
  },
  {
   "cell_type": "markdown",
   "metadata": {},
   "source": [
    "El modelo convolucional llega a un nivel de exactitud de mas del 69% en 20 épocas, utilizando una capa de regularización a partir de dropout (30%)"
   ]
  },
  {
   "cell_type": "markdown",
   "metadata": {},
   "source": [
    "## Transfer Learning"
   ]
  },
  {
   "cell_type": "code",
   "execution_count": 26,
   "metadata": {
    "scrolled": true
   },
   "outputs": [
    {
     "name": "stdout",
     "output_type": "stream",
     "text": [
      "_________________________________________________________________\n",
      "Layer (type)                 Output Shape              Param #   \n",
      "=================================================================\n",
      "input_2 (InputLayer)         (None, 32, 32, 3)         0         \n",
      "_________________________________________________________________\n",
      "block1_conv1 (Conv2D)        (None, 32, 32, 64)        1792      \n",
      "_________________________________________________________________\n",
      "block1_conv2 (Conv2D)        (None, 32, 32, 64)        36928     \n",
      "_________________________________________________________________\n",
      "block1_pool (MaxPooling2D)   (None, 16, 16, 64)        0         \n",
      "_________________________________________________________________\n",
      "block2_conv1 (Conv2D)        (None, 16, 16, 128)       73856     \n",
      "_________________________________________________________________\n",
      "block2_conv2 (Conv2D)        (None, 16, 16, 128)       147584    \n",
      "_________________________________________________________________\n",
      "block2_pool (MaxPooling2D)   (None, 8, 8, 128)         0         \n",
      "_________________________________________________________________\n",
      "block3_conv1 (Conv2D)        (None, 8, 8, 256)         295168    \n",
      "_________________________________________________________________\n",
      "block3_conv2 (Conv2D)        (None, 8, 8, 256)         590080    \n",
      "_________________________________________________________________\n",
      "block3_conv3 (Conv2D)        (None, 8, 8, 256)         590080    \n",
      "_________________________________________________________________\n",
      "block3_pool (MaxPooling2D)   (None, 4, 4, 256)         0         \n",
      "_________________________________________________________________\n",
      "block4_conv1 (Conv2D)        (None, 4, 4, 512)         1180160   \n",
      "_________________________________________________________________\n",
      "block4_conv2 (Conv2D)        (None, 4, 4, 512)         2359808   \n",
      "_________________________________________________________________\n",
      "block4_conv3 (Conv2D)        (None, 4, 4, 512)         2359808   \n",
      "_________________________________________________________________\n",
      "block4_pool (MaxPooling2D)   (None, 2, 2, 512)         0         \n",
      "_________________________________________________________________\n",
      "block5_conv1 (Conv2D)        (None, 2, 2, 512)         2359808   \n",
      "_________________________________________________________________\n",
      "block5_conv2 (Conv2D)        (None, 2, 2, 512)         2359808   \n",
      "_________________________________________________________________\n",
      "block5_conv3 (Conv2D)        (None, 2, 2, 512)         2359808   \n",
      "_________________________________________________________________\n",
      "block5_pool (MaxPooling2D)   (None, 1, 1, 512)         0         \n",
      "=================================================================\n",
      "Total params: 14,714,688\n",
      "Trainable params: 14,714,688\n",
      "Non-trainable params: 0\n",
      "_________________________________________________________________\n"
     ]
    }
   ],
   "source": [
    "from keras.applications import VGG16\n",
    "from keras.preprocessing.image import ImageDataGenerator\n",
    "import numpy as np\n",
    "\n",
    "conv_base = VGG16(weights='imagenet',\n",
    "                  include_top=False,\n",
    "                  input_shape=(32, 32, 3))\n",
    "\n",
    "\n",
    "conv_base.summary()"
   ]
  },
  {
   "cell_type": "code",
   "execution_count": 23,
   "metadata": {},
   "outputs": [],
   "source": [
    "datagen = ImageDataGenerator()\n",
    "batch_size = 64"
   ]
  },
  {
   "cell_type": "code",
   "execution_count": 32,
   "metadata": {},
   "outputs": [],
   "source": [
    "# Esta función realiza el procesamiento de las imágenes generadas por datagen.flow().\n",
    "# Se define un número de imágenes deseado, pues los generadores son infinitos.\n",
    "# Además puede servir para la extracción con un generador de data augmentation.\n",
    "# Retorna tanto los tensores con los features como los labels correspondientes.\n",
    "def extract_features(sample_count, images, labels):\n",
    "    features = np.zeros(shape=(sample_count, 1, 1, 512))\n",
    "    labels = np.zeros(shape=(sample_count, 10))\n",
    "    generator = datagen.flow(images, labels,\n",
    "                                     batch_size=batch_size)\n",
    "    i = 0\n",
    "    for inputs_batch, labels_batch in generator:\n",
    "        features_batch = conv_base.predict(inputs_batch)\n",
    "        features[i * batch_size : (i + 1) * batch_size] = features_batch\n",
    "        labels[i * batch_size : (i + 1) * batch_size] = labels_batch\n",
    "        i += 1\n",
    "        if i * batch_size >= sample_count:\n",
    "            # Es necesario explicitar el break, ya que los generadores son infinitos en su generación\n",
    "            break\n",
    "    return features, labels"
   ]
  },
  {
   "cell_type": "code",
   "execution_count": 33,
   "metadata": {},
   "outputs": [],
   "source": [
    "train_features, train_labels = extract_features(50000, train_images, train_labels)\n",
    "test_features, test_labels = extract_features(10000, test_images, test_labels)"
   ]
  },
  {
   "cell_type": "markdown",
   "metadata": {},
   "source": [
    "Las características extraídas son tensores de tipo (samples, 1, 1, 512), se van a aplanar a un tensor de tipo (samples, 512)."
   ]
  },
  {
   "cell_type": "code",
   "execution_count": 34,
   "metadata": {},
   "outputs": [],
   "source": [
    "train_features = np.reshape(train_features, (50000, 512))\n",
    "test_features = np.reshape(test_features, (10000, 512))"
   ]
  },
  {
   "cell_type": "markdown",
   "metadata": {},
   "source": [
    "Ahora definimos la red fully connected con una capa final de clasificacón con una función de activación softmax, agregando regularización a partir de una capa de Dropout al 50\\%, y la entrenamos con 20 épocas."
   ]
  },
  {
   "cell_type": "code",
   "execution_count": 37,
   "metadata": {},
   "outputs": [
    {
     "name": "stdout",
     "output_type": "stream",
     "text": [
      "Train on 45000 samples, validate on 5000 samples\n",
      "Epoch 1/100\n",
      "45000/45000 [==============================] - 4s 82us/step - loss: 2.3278 - acc: 0.1596 - val_loss: 2.0321 - val_acc: 0.3430\n",
      "Epoch 2/100\n",
      "45000/45000 [==============================] - 3s 73us/step - loss: 2.0408 - acc: 0.2705 - val_loss: 1.8602 - val_acc: 0.4066\n",
      "Epoch 3/100\n",
      "45000/45000 [==============================] - 3s 69us/step - loss: 1.8916 - acc: 0.3383 - val_loss: 1.7501 - val_acc: 0.4342\n",
      "Epoch 4/100\n",
      "45000/45000 [==============================] - 3s 74us/step - loss: 1.7974 - acc: 0.3752 - val_loss: 1.6769 - val_acc: 0.4538\n",
      "Epoch 5/100\n",
      "45000/45000 [==============================] - 3s 69us/step - loss: 1.7322 - acc: 0.3987 - val_loss: 1.6218 - val_acc: 0.4654\n",
      "Epoch 6/100\n",
      "45000/45000 [==============================] - 3s 71us/step - loss: 1.6838 - acc: 0.4144 - val_loss: 1.5797 - val_acc: 0.4736\n",
      "Epoch 7/100\n",
      "45000/45000 [==============================] - 3s 77us/step - loss: 1.6477 - acc: 0.4273 - val_loss: 1.5460 - val_acc: 0.4816\n",
      "Epoch 8/100\n",
      "45000/45000 [==============================] - 4s 87us/step - loss: 1.6130 - acc: 0.4391 - val_loss: 1.5170 - val_acc: 0.4888\n",
      "Epoch 9/100\n",
      "45000/45000 [==============================] - 4s 90us/step - loss: 1.5869 - acc: 0.4500 - val_loss: 1.4923 - val_acc: 0.4980\n",
      "Epoch 10/100\n",
      "45000/45000 [==============================] - 3s 73us/step - loss: 1.5610 - acc: 0.4593 - val_loss: 1.4716 - val_acc: 0.5034\n",
      "Epoch 11/100\n",
      "45000/45000 [==============================] - 3s 71us/step - loss: 1.5384 - acc: 0.4651 - val_loss: 1.4541 - val_acc: 0.5088\n",
      "Epoch 12/100\n",
      "45000/45000 [==============================] - 3s 77us/step - loss: 1.5229 - acc: 0.4748 - val_loss: 1.4383 - val_acc: 0.5140\n",
      "Epoch 13/100\n",
      "45000/45000 [==============================] - 3s 72us/step - loss: 1.5053 - acc: 0.4790 - val_loss: 1.4235 - val_acc: 0.5176\n",
      "Epoch 14/100\n",
      "45000/45000 [==============================] - 3s 65us/step - loss: 1.4911 - acc: 0.4822 - val_loss: 1.4107 - val_acc: 0.5218\n",
      "Epoch 15/100\n",
      "45000/45000 [==============================] - 3s 64us/step - loss: 1.4748 - acc: 0.4872 - val_loss: 1.3990 - val_acc: 0.5232\n",
      "Epoch 16/100\n",
      "45000/45000 [==============================] - 3s 69us/step - loss: 1.4644 - acc: 0.4910 - val_loss: 1.3882 - val_acc: 0.5274\n",
      "Epoch 17/100\n",
      "45000/45000 [==============================] - 3s 68us/step - loss: 1.4518 - acc: 0.4967 - val_loss: 1.3782 - val_acc: 0.5284\n",
      "Epoch 18/100\n",
      "45000/45000 [==============================] - 3s 66us/step - loss: 1.4396 - acc: 0.5025 - val_loss: 1.3683 - val_acc: 0.5318\n",
      "Epoch 19/100\n",
      "45000/45000 [==============================] - 4s 79us/step - loss: 1.4296 - acc: 0.5036 - val_loss: 1.3601 - val_acc: 0.5348\n",
      "Epoch 20/100\n",
      "45000/45000 [==============================] - 4s 82us/step - loss: 1.4237 - acc: 0.5080 - val_loss: 1.3528 - val_acc: 0.5398\n",
      "Epoch 21/100\n",
      "45000/45000 [==============================] - 3s 73us/step - loss: 1.4118 - acc: 0.5132 - val_loss: 1.3448 - val_acc: 0.5400\n",
      "Epoch 22/100\n",
      "45000/45000 [==============================] - 4s 79us/step - loss: 1.4057 - acc: 0.5124 - val_loss: 1.3379 - val_acc: 0.5444\n",
      "Epoch 23/100\n",
      "45000/45000 [==============================] - 3s 72us/step - loss: 1.3964 - acc: 0.5175 - val_loss: 1.3314 - val_acc: 0.5430\n",
      "Epoch 24/100\n",
      "45000/45000 [==============================] - 3s 71us/step - loss: 1.3882 - acc: 0.5180 - val_loss: 1.3257 - val_acc: 0.5440\n",
      "Epoch 25/100\n",
      "45000/45000 [==============================] - 3s 73us/step - loss: 1.3794 - acc: 0.5200 - val_loss: 1.3202 - val_acc: 0.5454\n",
      "Epoch 26/100\n",
      "45000/45000 [==============================] - 3s 76us/step - loss: 1.3725 - acc: 0.5230 - val_loss: 1.3138 - val_acc: 0.5474\n",
      "Epoch 27/100\n",
      "45000/45000 [==============================] - 3s 76us/step - loss: 1.3682 - acc: 0.5234 - val_loss: 1.3085 - val_acc: 0.5492\n",
      "Epoch 28/100\n",
      "45000/45000 [==============================] - 3s 71us/step - loss: 1.3601 - acc: 0.5300 - val_loss: 1.3029 - val_acc: 0.5508\n",
      "Epoch 29/100\n",
      "45000/45000 [==============================] - 4s 83us/step - loss: 1.3581 - acc: 0.5278 - val_loss: 1.2992 - val_acc: 0.5532\n",
      "Epoch 30/100\n",
      "45000/45000 [==============================] - 3s 73us/step - loss: 1.3511 - acc: 0.5324 - val_loss: 1.2937 - val_acc: 0.5542\n",
      "Epoch 31/100\n",
      "45000/45000 [==============================] - 3s 75us/step - loss: 1.3440 - acc: 0.5341 - val_loss: 1.2897 - val_acc: 0.5538\n",
      "Epoch 32/100\n",
      "45000/45000 [==============================] - 4s 83us/step - loss: 1.3357 - acc: 0.5366 - val_loss: 1.2854 - val_acc: 0.5572\n",
      "Epoch 33/100\n",
      "45000/45000 [==============================] - 3s 75us/step - loss: 1.3320 - acc: 0.5388 - val_loss: 1.2825 - val_acc: 0.5556\n",
      "Epoch 34/100\n",
      "45000/45000 [==============================] - 3s 73us/step - loss: 1.3295 - acc: 0.5402 - val_loss: 1.2779 - val_acc: 0.5584\n",
      "Epoch 35/100\n",
      "45000/45000 [==============================] - 4s 80us/step - loss: 1.3269 - acc: 0.5393 - val_loss: 1.2741 - val_acc: 0.5612\n",
      "Epoch 36/100\n",
      "45000/45000 [==============================] - 3s 73us/step - loss: 1.3190 - acc: 0.5432 - val_loss: 1.2707 - val_acc: 0.5616\n",
      "Epoch 37/100\n",
      "45000/45000 [==============================] - 4s 96us/step - loss: 1.3154 - acc: 0.5411 - val_loss: 1.2665 - val_acc: 0.5632\n",
      "Epoch 38/100\n",
      "45000/45000 [==============================] - 4s 82us/step - loss: 1.3134 - acc: 0.5423 - val_loss: 1.2638 - val_acc: 0.5666\n",
      "Epoch 39/100\n",
      "45000/45000 [==============================] - 4s 86us/step - loss: 1.3029 - acc: 0.5488 - val_loss: 1.2605 - val_acc: 0.5664\n",
      "Epoch 40/100\n",
      "45000/45000 [==============================] - 4s 87us/step - loss: 1.3029 - acc: 0.5460 - val_loss: 1.2568 - val_acc: 0.5666\n",
      "Epoch 41/100\n",
      "45000/45000 [==============================] - 5s 104us/step - loss: 1.2994 - acc: 0.5501 - val_loss: 1.2547 - val_acc: 0.5718\n",
      "Epoch 42/100\n",
      "45000/45000 [==============================] - 4s 79us/step - loss: 1.2948 - acc: 0.5518 - val_loss: 1.2518 - val_acc: 0.5692\n",
      "Epoch 43/100\n",
      "45000/45000 [==============================] - 3s 73us/step - loss: 1.2900 - acc: 0.5508 - val_loss: 1.2485 - val_acc: 0.5692\n",
      "Epoch 44/100\n",
      "45000/45000 [==============================] - 4s 78us/step - loss: 1.2895 - acc: 0.5548 - val_loss: 1.2458 - val_acc: 0.5718\n",
      "Epoch 45/100\n",
      "45000/45000 [==============================] - 4s 78us/step - loss: 1.2847 - acc: 0.5554 - val_loss: 1.2432 - val_acc: 0.5734\n",
      "Epoch 46/100\n",
      "45000/45000 [==============================] - 3s 76us/step - loss: 1.2800 - acc: 0.5561 - val_loss: 1.2412 - val_acc: 0.5724\n",
      "Epoch 47/100\n",
      "45000/45000 [==============================] - 3s 76us/step - loss: 1.2785 - acc: 0.5578 - val_loss: 1.2389 - val_acc: 0.5732\n",
      "Epoch 48/100\n",
      "45000/45000 [==============================] - 3s 77us/step - loss: 1.2771 - acc: 0.5580 - val_loss: 1.2363 - val_acc: 0.5744\n",
      "Epoch 49/100\n",
      "45000/45000 [==============================] - 3s 76us/step - loss: 1.2723 - acc: 0.5606 - val_loss: 1.2331 - val_acc: 0.5734\n",
      "Epoch 50/100\n",
      "45000/45000 [==============================] - 3s 76us/step - loss: 1.2716 - acc: 0.5609 - val_loss: 1.2318 - val_acc: 0.5760\n",
      "Epoch 51/100\n",
      "45000/45000 [==============================] - 4s 82us/step - loss: 1.2649 - acc: 0.5594 - val_loss: 1.2285 - val_acc: 0.5762\n",
      "Epoch 52/100\n",
      "45000/45000 [==============================] - 4s 83us/step - loss: 1.2618 - acc: 0.5635 - val_loss: 1.2267 - val_acc: 0.5750\n",
      "Epoch 53/100\n",
      "45000/45000 [==============================] - 3s 74us/step - loss: 1.2634 - acc: 0.5624 - val_loss: 1.2261 - val_acc: 0.5770\n",
      "Epoch 54/100\n",
      "45000/45000 [==============================] - 3s 75us/step - loss: 1.2588 - acc: 0.5656 - val_loss: 1.2228 - val_acc: 0.5770\n",
      "Epoch 55/100\n",
      "45000/45000 [==============================] - 4s 82us/step - loss: 1.2526 - acc: 0.5674 - val_loss: 1.2211 - val_acc: 0.5786\n",
      "Epoch 56/100\n",
      "45000/45000 [==============================] - 3s 75us/step - loss: 1.2530 - acc: 0.5652 - val_loss: 1.2196 - val_acc: 0.5784\n",
      "Epoch 57/100\n",
      "45000/45000 [==============================] - 3s 74us/step - loss: 1.2514 - acc: 0.5658 - val_loss: 1.2175 - val_acc: 0.5818\n",
      "Epoch 58/100\n",
      "45000/45000 [==============================] - 3s 76us/step - loss: 1.2480 - acc: 0.5668 - val_loss: 1.2157 - val_acc: 0.5810\n",
      "Epoch 59/100\n",
      "45000/45000 [==============================] - 3s 77us/step - loss: 1.2449 - acc: 0.5680 - val_loss: 1.2136 - val_acc: 0.5816\n",
      "Epoch 60/100\n",
      "45000/45000 [==============================] - 4s 86us/step - loss: 1.2426 - acc: 0.5697 - val_loss: 1.2124 - val_acc: 0.5820\n",
      "Epoch 61/100\n",
      "45000/45000 [==============================] - 4s 82us/step - loss: 1.2416 - acc: 0.5703 - val_loss: 1.2102 - val_acc: 0.5840\n",
      "Epoch 62/100\n",
      "45000/45000 [==============================] - 4s 83us/step - loss: 1.2379 - acc: 0.5713 - val_loss: 1.2087 - val_acc: 0.5848\n",
      "Epoch 63/100\n",
      "45000/45000 [==============================] - 3s 75us/step - loss: 1.2363 - acc: 0.5725 - val_loss: 1.2067 - val_acc: 0.5856\n",
      "Epoch 64/100\n",
      "45000/45000 [==============================] - 4s 87us/step - loss: 1.2340 - acc: 0.5742 - val_loss: 1.2059 - val_acc: 0.5872\n",
      "Epoch 65/100\n",
      "45000/45000 [==============================] - 4s 81us/step - loss: 1.2319 - acc: 0.5736 - val_loss: 1.2036 - val_acc: 0.5876\n",
      "Epoch 66/100\n",
      "45000/45000 [==============================] - 3s 74us/step - loss: 1.2304 - acc: 0.5764 - val_loss: 1.2025 - val_acc: 0.5874\n",
      "Epoch 67/100\n",
      "45000/45000 [==============================] - 3s 73us/step - loss: 1.2272 - acc: 0.5745 - val_loss: 1.2011 - val_acc: 0.5898\n",
      "Epoch 68/100\n",
      "45000/45000 [==============================] - 3s 71us/step - loss: 1.2277 - acc: 0.5753 - val_loss: 1.1998 - val_acc: 0.5890\n",
      "Epoch 69/100\n",
      "45000/45000 [==============================] - 3s 70us/step - loss: 1.2239 - acc: 0.5770 - val_loss: 1.1986 - val_acc: 0.5916\n",
      "Epoch 70/100\n",
      "45000/45000 [==============================] - 3s 71us/step - loss: 1.2229 - acc: 0.5760 - val_loss: 1.1965 - val_acc: 0.5900\n",
      "Epoch 71/100\n",
      "45000/45000 [==============================] - 3s 72us/step - loss: 1.2177 - acc: 0.5775 - val_loss: 1.1957 - val_acc: 0.5910\n",
      "Epoch 72/100\n",
      "45000/45000 [==============================] - 4s 86us/step - loss: 1.2198 - acc: 0.5784 - val_loss: 1.1943 - val_acc: 0.5884\n",
      "Epoch 73/100\n",
      "45000/45000 [==============================] - 4s 89us/step - loss: 1.2160 - acc: 0.5786 - val_loss: 1.1940 - val_acc: 0.5910\n",
      "Epoch 74/100\n",
      "45000/45000 [==============================] - 4s 85us/step - loss: 1.2112 - acc: 0.5808 - val_loss: 1.1917 - val_acc: 0.5906\n",
      "Epoch 75/100\n",
      "45000/45000 [==============================] - 3s 75us/step - loss: 1.2142 - acc: 0.5812 - val_loss: 1.1907 - val_acc: 0.5902\n",
      "Epoch 76/100\n",
      "45000/45000 [==============================] - 4s 79us/step - loss: 1.2125 - acc: 0.5804 - val_loss: 1.1903 - val_acc: 0.5938\n",
      "Epoch 77/100\n",
      "45000/45000 [==============================] - 4s 79us/step - loss: 1.2086 - acc: 0.5815 - val_loss: 1.1883 - val_acc: 0.5936\n",
      "Epoch 78/100\n",
      "45000/45000 [==============================] - 4s 79us/step - loss: 1.2089 - acc: 0.5832 - val_loss: 1.1873 - val_acc: 0.5950\n",
      "Epoch 79/100\n",
      "45000/45000 [==============================] - 3s 76us/step - loss: 1.2052 - acc: 0.5832 - val_loss: 1.1862 - val_acc: 0.5950\n",
      "Epoch 80/100\n",
      "45000/45000 [==============================] - 3s 76us/step - loss: 1.2072 - acc: 0.5819 - val_loss: 1.1852 - val_acc: 0.5910\n",
      "Epoch 81/100\n",
      "45000/45000 [==============================] - 3s 76us/step - loss: 1.2037 - acc: 0.5850 - val_loss: 1.1835 - val_acc: 0.5946\n",
      "Epoch 82/100\n",
      "45000/45000 [==============================] - 3s 77us/step - loss: 1.2015 - acc: 0.5841 - val_loss: 1.1822 - val_acc: 0.5938\n",
      "Epoch 83/100\n",
      "45000/45000 [==============================] - 3s 77us/step - loss: 1.2006 - acc: 0.5832 - val_loss: 1.1815 - val_acc: 0.5960\n",
      "Epoch 84/100\n",
      "45000/45000 [==============================] - 3s 76us/step - loss: 1.1963 - acc: 0.5842 - val_loss: 1.1803 - val_acc: 0.5956\n",
      "Epoch 85/100\n",
      "45000/45000 [==============================] - 3s 76us/step - loss: 1.1947 - acc: 0.5881 - val_loss: 1.1794 - val_acc: 0.5974\n",
      "Epoch 86/100\n",
      "45000/45000 [==============================] - 3s 77us/step - loss: 1.1973 - acc: 0.5868 - val_loss: 1.1786 - val_acc: 0.5968\n",
      "Epoch 87/100\n",
      "45000/45000 [==============================] - 3s 77us/step - loss: 1.1926 - acc: 0.5869 - val_loss: 1.1782 - val_acc: 0.5966\n",
      "Epoch 88/100\n",
      "45000/45000 [==============================] - 3s 77us/step - loss: 1.1916 - acc: 0.5875 - val_loss: 1.1762 - val_acc: 0.5958\n",
      "Epoch 89/100\n",
      "45000/45000 [==============================] - 3s 77us/step - loss: 1.1903 - acc: 0.5881 - val_loss: 1.1760 - val_acc: 0.5966\n",
      "Epoch 90/100\n",
      "45000/45000 [==============================] - 4s 79us/step - loss: 1.1893 - acc: 0.5891 - val_loss: 1.1749 - val_acc: 0.5962\n",
      "Epoch 91/100\n",
      "45000/45000 [==============================] - 3s 77us/step - loss: 1.1852 - acc: 0.5881 - val_loss: 1.1742 - val_acc: 0.5976\n",
      "Epoch 92/100\n",
      "45000/45000 [==============================] - 3s 77us/step - loss: 1.1857 - acc: 0.5895 - val_loss: 1.1733 - val_acc: 0.5968\n",
      "Epoch 93/100\n",
      "45000/45000 [==============================] - 3s 78us/step - loss: 1.1836 - acc: 0.5903 - val_loss: 1.1725 - val_acc: 0.5958\n",
      "Epoch 94/100\n",
      "45000/45000 [==============================] - 3s 77us/step - loss: 1.1849 - acc: 0.5905 - val_loss: 1.1712 - val_acc: 0.5968\n",
      "Epoch 95/100\n",
      "45000/45000 [==============================] - 3s 78us/step - loss: 1.1831 - acc: 0.5919 - val_loss: 1.1711 - val_acc: 0.5968\n",
      "Epoch 96/100\n",
      "45000/45000 [==============================] - 4s 80us/step - loss: 1.1787 - acc: 0.5920 - val_loss: 1.1701 - val_acc: 0.5960\n",
      "Epoch 97/100\n",
      "45000/45000 [==============================] - 5s 101us/step - loss: 1.1763 - acc: 0.5929 - val_loss: 1.1687 - val_acc: 0.5948\n",
      "Epoch 98/100\n",
      "45000/45000 [==============================] - 5s 109us/step - loss: 1.1785 - acc: 0.5927 - val_loss: 1.1683 - val_acc: 0.5986\n",
      "Epoch 99/100\n",
      "45000/45000 [==============================] - 4s 98us/step - loss: 1.1763 - acc: 0.5929 - val_loss: 1.1673 - val_acc: 0.5960\n",
      "Epoch 100/100\n",
      "45000/45000 [==============================] - 4s 89us/step - loss: 1.1762 - acc: 0.5936 - val_loss: 1.1666 - val_acc: 0.5972\n"
     ]
    }
   ],
   "source": [
    "from keras import models\n",
    "from keras import layers\n",
    "from keras import optimizers\n",
    "\n",
    "model = models.Sequential()\n",
    "model.add(layers.Dense(256, activation='relu', input_dim=512))\n",
    "model.add(layers.Dropout(0.5))\n",
    "model.add(layers.Dense(10, activation='softmax'))\n",
    "\n",
    "model.compile(optimizer=optimizers.RMSprop(lr=2e-5),\n",
    "              loss='categorical_crossentropy',\n",
    "              metrics=['acc'])\n",
    "\n",
    "history = model.fit(train_features, train_labels,\n",
    "                    epochs=100,\n",
    "                    batch_size=batch_size,\n",
    "                    validation_split=0.1)"
   ]
  },
  {
   "cell_type": "markdown",
   "metadata": {},
   "source": [
    "Veamos los resultados del modelo."
   ]
  },
  {
   "cell_type": "code",
   "execution_count": 40,
   "metadata": {},
   "outputs": [
    {
     "data": {
      "image/png": "[encoded data removed]",
      "text/plain": [
       "<Figure size 432x288 with 1 Axes>"
      ]
     },
     "metadata": {},
     "output_type": "display_data"
    },
    {
     "data": {
      "image/png": "[encoded data removed]",
      "text/plain": [
       "<Figure size 432x288 with 1 Axes>"
      ]
     },
     "metadata": {},
     "output_type": "display_data"
    }
   ],
   "source": [
    "import matplotlib.pyplot as plt\n",
    "\n",
    "acc = history.history['acc']\n",
    "val_acc = history.history['val_acc']\n",
    "loss = history.history['loss']\n",
    "val_loss = history.history['val_loss']\n",
    "\n",
    "epochs = range(len(acc))\n",
    "\n",
    "plt.plot(epochs, acc, 'bo', label='Training acc')\n",
    "plt.plot(epochs, val_acc, 'b', label='Validation acc')\n",
    "plt.title('Training and validation accuracy')\n",
    "plt.legend()\n",
    "plt.show()\n",
    "\n",
    "plt.plot(epochs, loss, 'bo', label='Training loss')\n",
    "plt.plot(epochs, val_loss, 'b', label='Validation loss')\n",
    "plt.title('Training and validation loss')\n",
    "plt.legend()\n",
    "plt.show()"
   ]
  },
  {
   "cell_type": "markdown",
   "metadata": {},
   "source": [
    "## Evaluación de los resultados del modelo"
   ]
  },
  {
   "cell_type": "code",
   "execution_count": 9,
   "metadata": {},
   "outputs": [
    {
     "name": "stdout",
     "output_type": "stream",
     "text": [
      "10000/10000 [==============================] - 4s 395us/step\n"
     ]
    }
   ],
   "source": [
    "test_loss, test_acc = model.evaluate(test_images, test_labels)"
   ]
  },
  {
   "cell_type": "code",
   "execution_count": 10,
   "metadata": {},
   "outputs": [
    {
     "data": {
      "text/plain": [
       "0.9917"
      ]
     },
     "execution_count": 10,
     "metadata": {},
     "output_type": "execute_result"
    }
   ],
   "source": [
    "test_acc"
   ]
  },
  {
   "cell_type": "markdown",
   "metadata": {},
   "source": [
    "Teniendo en cuenta el resultado obtenido con el modelo de red neuronal tradicional (98%), el modelo convolucional lo mejora, llegando a un nivel de exactitud de mas del 99% en tan solo 5 épocas, utilizando una capa de regularización a partir de dropout."
   ]
  },
  {
   "cell_type": "code",
   "execution_count": 11,
   "metadata": {},
   "outputs": [
    {
     "data": {
      "image/png": "[encoded data removed]",
      "text/plain": [
       "<Figure size 432x288 with 1 Axes>"
      ]
     },
     "metadata": {},
     "output_type": "display_data"
    }
   ],
   "source": [
    "plt.plot(history.history['acc'])\n",
    "plt.plot(history.history['val_acc'])\n",
    "plt.title('model accuracy')\n",
    "plt.ylabel('accuracy')\n",
    "plt.xlabel('epoch')\n",
    "plt.legend(['train', 'test'], loc='upper left')\n",
    "plt.show()"
   ]
  },
  {
   "cell_type": "code",
   "execution_count": 12,
   "metadata": {},
   "outputs": [
    {
     "data": {
      "image/png": "[encoded data removed]",
      "text/plain": [
       "<Figure size 432x288 with 1 Axes>"
      ]
     },
     "metadata": {},
     "output_type": "display_data"
    }
   ],
   "source": [
    "plt.plot(history.history['loss'])\n",
    "plt.plot(history.history['val_loss'])\n",
    "plt.title('model loss')\n",
    "plt.ylabel('loss')\n",
    "plt.xlabel('epoch')\n",
    "plt.legend(['train', 'test'], loc='upper left')\n",
    "plt.show()"
   ]
  },
  {
   "cell_type": "code",
   "execution_count": null,
   "metadata": {},
   "outputs": [],
   "source": []
  }
 ],
 "metadata": {
  "kernelspec": {
   "display_name": "Python 3",
   "language": "python",
   "name": "python3"
  },
  "language_info": {
   "codemirror_mode": {
    "name": "ipython",
    "version": 3
   },
   "file_extension": ".py",
   "mimetype": "text/x-python",
   "name": "python",
   "nbconvert_exporter": "python",
   "pygments_lexer": "ipython3",
   "version": "3.6.5"
  }
 },
 "nbformat": 4,
 "nbformat_minor": 2
}
