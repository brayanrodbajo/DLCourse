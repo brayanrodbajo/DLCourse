{
 "cells": [
  {
   "cell_type": "markdown",
   "metadata": {},
   "source": [
    "# Descenso de gradiente para modelos de regresión lineal por OLS"
   ]
  },
  {
   "cell_type": "markdown",
   "metadata": {},
   "source": [
    "## Preparación de los datos"
   ]
  },
  {
   "cell_type": "markdown",
   "metadata": {},
   "source": [
    "Se importan las librerías que se van a utilizar:\n",
    "- numpy: librería numérica que proporciona todo tipo de operaciones matemáticas y de algebra lineal. Vamos a utilizar el random y operaciones sobre arrays y matrices\n",
    "- matplotlib: permite crear gráficos 2D, con algunas pocas funcionalidades 3D\n",
    "- sklearn: librería para machine learning en Python (scikit-learn), incluye modelos de clasificación, regresión, clustering, y herramientas de reducción de dimensionalidad, selección de modelos y preprocesamiento\n",
    "- statsmodels: librería de métodos y algoritmos estadísticos\n",
    "- scipy: librería que integra paquetes utilizados en computación scientífica"
   ]
  },
  {
   "cell_type": "code",
   "execution_count": 6,
   "metadata": {},
   "outputs": [],
   "source": [
    "import numpy as np\n",
    "import matplotlib.pyplot as plt\n",
    "from scipy import stats\n",
    "import statsmodels.api as sm"
   ]
  },
  {
   "cell_type": "code",
   "execution_count": 7,
   "metadata": {},
   "outputs": [],
   "source": [
    "from sklearn import linear_model\n",
    "from sklearn.metrics import mean_squared_error, r2_score"
   ]
  },
  {
   "cell_type": "markdown",
   "metadata": {},
   "source": [
    "Vamos a especificar un valor de la semilla a utilizar para el generador de números pseudo aleatorio"
   ]
  },
  {
   "cell_type": "code",
   "execution_count": 8,
   "metadata": {},
   "outputs": [],
   "source": [
    "np.random.seed(123456)"
   ]
  },
  {
   "cell_type": "markdown",
   "metadata": {},
   "source": [
    "Vamos a crear un set de datos sintéticos: un array de 500 filas y 1 columna con valores aleatorios, que servirán como variables predictoras del modelo de regresión: Y= w1\\*x1 + b"
   ]
  },
  {
   "cell_type": "code",
   "execution_count": 9,
   "metadata": {},
   "outputs": [
    {
     "name": "stdout",
     "output_type": "stream",
     "text": [
      "x tiene un size de:  500\n",
      "x tiene un shape de:  (500,)\n",
      "las primeras 5 filas de x son: \n",
      " [0.12696983 0.96671784 0.26047601 0.89723652 0.37674972]\n"
     ]
    }
   ],
   "source": [
    "x = np.random.random(500)\n",
    "print(\"x tiene un size de: \", x.size)\n",
    "print(\"x tiene un shape de: \", x.shape)\n",
    "print(\"las primeras 5 filas de x son: \\n\", x[0:5])"
   ]
  },
  {
   "cell_type": "markdown",
   "metadata": {},
   "source": [
    "Generamos los Y (la variable objetivo) a partir del predictor X1, introduciendo un poco de ruido aleatorio (queda en el vector epsilon).\n",
    "\n",
    "Especificamos los coeficientes w0 (sesgo/bias) y w1 (coeficiente de la variable independiente) con valores de 2 y 4 respectivamente.\n",
    "\n",
    "Agregamos ruido (epsilon) para que no sea perfecta la predicción."
   ]
  },
  {
   "cell_type": "code",
   "execution_count": 10,
   "metadata": {},
   "outputs": [],
   "source": [
    "w0 = 2 #cualquier número para luego calcular la y y pasárselo al modelo.\n",
    "w1 = 4"
   ]
  },
  {
   "cell_type": "code",
   "execution_count": 11,
   "metadata": {},
   "outputs": [
    {
     "name": "stdout",
     "output_type": "stream",
     "text": [
      "500\n",
      "(500,)\n",
      "[2.9104413  6.26642606 1.27594841 6.43936955 3.89505323]\n"
     ]
    }
   ],
   "source": [
    "epsilon = np.random.normal(0, 1, 500)\n",
    "y = x*w1 + w0 + epsilon\n",
    "print(y.size)\n",
    "print(y.shape)\n",
    "print(y[0:5])"
   ]
  },
  {
   "cell_type": "markdown",
   "metadata": {},
   "source": [
    "## Aprendizaje del modelo"
   ]
  },
  {
   "cell_type": "markdown",
   "metadata": {},
   "source": [
    "Ahora vamos a aprender un modelo de regresión como **si no conocieramos los parámetros** reales w0 y w1.\n",
    "\n",
    "El modelo es un objeto y ofrece diferentes métodos. Obtenemos los resultados para analizar su calidad."
   ]
  },
  {
   "cell_type": "markdown",
   "metadata": {},
   "source": [
    "Se crea el modelo de regresión lineal y se entrena con los datos de las variables independientes y dependiente"
   ]
  },
  {
   "cell_type": "code",
   "execution_count": 12,
   "metadata": {},
   "outputs": [
    {
     "data": {
      "text/plain": [
       "LinearRegression(copy_X=True, fit_intercept=True, n_jobs=1, normalize=False)"
      ]
     },
     "execution_count": 12,
     "metadata": {},
     "output_type": "execute_result"
    }
   ],
   "source": [
    "modelo = linear_model.LinearRegression() \n",
    "modelo.fit(np.expand_dims(x, axis=1), y) #Si estos son los datos X y los Y cuáles son los w_0 w_1"
   ]
  },
  {
   "cell_type": "markdown",
   "metadata": {},
   "source": [
    "Podemos utilizar el modelo para predecir sobre los mismos datos originales (en la vida real esto no se debe hacer, pues se estaría subestimando el error real dado el sobre aprendizaje)"
   ]
  },
  {
   "cell_type": "code",
   "execution_count": 13,
   "metadata": {},
   "outputs": [
    {
     "name": "stdout",
     "output_type": "stream",
     "text": [
      "(500,)\n",
      "Predichos:  [2.53326285 5.81419925 3.05487797 5.54273237 3.50916503]\n",
      "Reales:     [2.9104413  6.26642606 1.27594841 6.43936955 3.89505323]\n"
     ]
    }
   ],
   "source": [
    "y_pred = modelo.predict(np.expand_dims(x, axis=1))\n",
    "print(y_pred.shape)\n",
    "print(\"Predichos: \", y_pred[0:5])\n",
    "print(\"Reales:    \", y[0:5])"
   ]
  },
  {
   "cell_type": "markdown",
   "metadata": {},
   "source": [
    "Podemos obtener los coeficientes resultados de la regresión, así como métricas de calidad de ajuste del modelo."
   ]
  },
  {
   "cell_type": "code",
   "execution_count": 14,
   "metadata": {},
   "outputs": [
    {
     "name": "stdout",
     "output_type": "stream",
     "text": [
      "Coefficients: \n",
      " [2.03718552 3.90704876]\n",
      "Mean squared error: 1.04281914\n",
      "Variance score (R2): 0.53253711\n",
      "R2 adjusted: 0.53159843\n"
     ]
    }
   ],
   "source": [
    "params = np.append(modelo.intercept_, modelo.coef_)\n",
    "print('Coefficients: \\n', params)\n",
    "print(\"Mean squared error: %.8f\" %mean_squared_error(y, y_pred))\n",
    "r2 = r2_score(y, y_pred)\n",
    "print('Variance score (R2): %.8f' %r2_score(y, y_pred))\n",
    "\n",
    "r2_adjusted = 1 - (1-r2)*(len(y)-1) / (len(y) - 1 - 1)\n",
    "print('R2 adjusted: %.8f' %r2_adjusted)"
   ]
  },
  {
   "cell_type": "markdown",
   "metadata": {},
   "source": [
    "El R2 ajustado es igual al R2 menos una penalidad por la complejidad del modelo.\n",
    "Esto se debe a que a mayor número de predictores, el R2 no puede sino crecer, así las variables agregadas no estén realmente correlacionadas con la variable objetivo. El R2 corrige ese sesgo en la medida de calidad"
   ]
  },
  {
   "cell_type": "code",
   "execution_count": 15,
   "metadata": {},
   "outputs": [
    {
     "data": {
      "image/png": "[encoded data removed]",
      "text/plain": [
       "<Figure size 432x288 with 1 Axes>"
      ]
     },
     "metadata": {
      "needs_background": "light"
     },
     "output_type": "display_data"
    }
   ],
   "source": [
    "# Plot outputs\n",
    "plt.scatter(x, y,  color='black')\n",
    "plt.show()\n"
   ]
  },
  {
   "cell_type": "markdown",
   "metadata": {},
   "source": [
    "## Significancia de los parámetros del modelo"
   ]
  },
  {
   "cell_type": "markdown",
   "metadata": {},
   "source": [
    "Usamos el package statsmodels para poder analizar los coeficientes de regresión.\n",
    "\n",
    "Si queremos el coeficiente del intercepto con statsmodels, es necesario adicionar una constante inicial a los datos predictores"
   ]
  },
  {
   "cell_type": "code",
   "execution_count": 16,
   "metadata": {},
   "outputs": [
    {
     "name": "stdout",
     "output_type": "stream",
     "text": [
      "[[1.         0.12696983]\n",
      " [1.         0.96671784]\n",
      " [1.         0.26047601]\n",
      " [1.         0.89723652]\n",
      " [1.         0.37674972]\n",
      " [1.         0.33622174]\n",
      " [1.         0.45137647]\n",
      " [1.         0.84025508]\n",
      " [1.         0.12310214]\n",
      " [1.         0.5430262 ]]\n"
     ]
    }
   ],
   "source": [
    "x2 = sm.add_constant(x)\n",
    "print(x2[0:10])"
   ]
  },
  {
   "cell_type": "code",
   "execution_count": 11,
   "metadata": {},
   "outputs": [
    {
     "data": {
      "text/html": [
       "<table class=\"simpletable\">\n",
       "<caption>OLS Regression Results</caption>\n",
       "<tr>\n",
       "  <th>Dep. Variable:</th>            <td>y</td>        <th>  R-squared:         </th> <td>   0.533</td>\n",
       "</tr>\n",
       "<tr>\n",
       "  <th>Model:</th>                   <td>OLS</td>       <th>  Adj. R-squared:    </th> <td>   0.532</td>\n",
       "</tr>\n",
       "<tr>\n",
       "  <th>Method:</th>             <td>Least Squares</td>  <th>  F-statistic:       </th> <td>   567.3</td>\n",
       "</tr>\n",
       "<tr>\n",
       "  <th>Date:</th>             <td>Mon, 01 Oct 2018</td> <th>  Prob (F-statistic):</th> <td>2.86e-84</td>\n",
       "</tr>\n",
       "<tr>\n",
       "  <th>Time:</th>                 <td>06:06:16</td>     <th>  Log-Likelihood:    </th> <td> -719.95</td>\n",
       "</tr>\n",
       "<tr>\n",
       "  <th>No. Observations:</th>      <td>   500</td>      <th>  AIC:               </th> <td>   1444.</td>\n",
       "</tr>\n",
       "<tr>\n",
       "  <th>Df Residuals:</th>          <td>   498</td>      <th>  BIC:               </th> <td>   1452.</td>\n",
       "</tr>\n",
       "<tr>\n",
       "  <th>Df Model:</th>              <td>     1</td>      <th>                     </th>     <td> </td>   \n",
       "</tr>\n",
       "<tr>\n",
       "  <th>Covariance Type:</th>      <td>nonrobust</td>    <th>                     </th>     <td> </td>   \n",
       "</tr>\n",
       "</table>\n",
       "<table class=\"simpletable\">\n",
       "<tr>\n",
       "    <td></td>       <th>coef</th>     <th>std err</th>      <th>t</th>      <th>P>|t|</th>  <th>[0.025</th>    <th>0.975]</th>  \n",
       "</tr>\n",
       "<tr>\n",
       "  <th>const</th> <td>    2.0372</td> <td>    0.094</td> <td>   21.610</td> <td> 0.000</td> <td>    1.852</td> <td>    2.222</td>\n",
       "</tr>\n",
       "<tr>\n",
       "  <th>x1</th>    <td>    3.9070</td> <td>    0.164</td> <td>   23.819</td> <td> 0.000</td> <td>    3.585</td> <td>    4.229</td>\n",
       "</tr>\n",
       "</table>\n",
       "<table class=\"simpletable\">\n",
       "<tr>\n",
       "  <th>Omnibus:</th>       <td> 4.195</td> <th>  Durbin-Watson:     </th> <td>   1.906</td>\n",
       "</tr>\n",
       "<tr>\n",
       "  <th>Prob(Omnibus):</th> <td> 0.123</td> <th>  Jarque-Bera (JB):  </th> <td>   4.000</td>\n",
       "</tr>\n",
       "<tr>\n",
       "  <th>Skew:</th>          <td>-0.212</td> <th>  Prob(JB):          </th> <td>   0.135</td>\n",
       "</tr>\n",
       "<tr>\n",
       "  <th>Kurtosis:</th>      <td> 3.112</td> <th>  Cond. No.          </th> <td>    4.55</td>\n",
       "</tr>\n",
       "</table><br/><br/>Warnings:<br/>[1] Standard Errors assume that the covariance matrix of the errors is correctly specified."
      ],
      "text/plain": [
       "<class 'statsmodels.iolib.summary.Summary'>\n",
       "\"\"\"\n",
       "                            OLS Regression Results                            \n",
       "==============================================================================\n",
       "Dep. Variable:                      y   R-squared:                       0.533\n",
       "Model:                            OLS   Adj. R-squared:                  0.532\n",
       "Method:                 Least Squares   F-statistic:                     567.3\n",
       "Date:                Mon, 01 Oct 2018   Prob (F-statistic):           2.86e-84\n",
       "Time:                        06:06:16   Log-Likelihood:                -719.95\n",
       "No. Observations:                 500   AIC:                             1444.\n",
       "Df Residuals:                     498   BIC:                             1452.\n",
       "Df Model:                           1                                         \n",
       "Covariance Type:            nonrobust                                         \n",
       "==============================================================================\n",
       "                 coef    std err          t      P>|t|      [0.025      0.975]\n",
       "------------------------------------------------------------------------------\n",
       "const          2.0372      0.094     21.610      0.000       1.852       2.222\n",
       "x1             3.9070      0.164     23.819      0.000       3.585       4.229\n",
       "==============================================================================\n",
       "Omnibus:                        4.195   Durbin-Watson:                   1.906\n",
       "Prob(Omnibus):                  0.123   Jarque-Bera (JB):                4.000\n",
       "Skew:                          -0.212   Prob(JB):                        0.135\n",
       "Kurtosis:                       3.112   Cond. No.                         4.55\n",
       "==============================================================================\n",
       "\n",
       "Warnings:\n",
       "[1] Standard Errors assume that the covariance matrix of the errors is correctly specified.\n",
       "\"\"\""
      ]
     },
     "execution_count": 11,
     "metadata": {},
     "output_type": "execute_result"
    }
   ],
   "source": [
    "modeloStats = sm.OLS(y, x2)\n",
    "results = modeloStats.fit();\n",
    "#Consultamos la calidad del modelo a partir de sus estadísticas\n",
    "results.summary()"
   ]
  },
  {
   "cell_type": "markdown",
   "metadata": {},
   "source": [
    "## Obtención de los parámetros a partir de Gradient Descent"
   ]
  },
  {
   "cell_type": "markdown",
   "metadata": {},
   "source": [
    "Vamos a definir una función que nos permitirá ejecutar un paso de descenso de gradiente utilizando numpy."
   ]
  },
  {
   "cell_type": "markdown",
   "metadata": {},
   "source": [
    "Partimos de la función de costo que considera la regresión con 1 parámetro:\n",
    "\n",
    "$𝐽(𝜃_0,𝜃_1)=\\frac{1}{2𝑚} ∑_{𝑖=1}^{𝑚}(w_0+w_1*𝑥_1^{(𝑖)}−𝑦^{(𝑖)})^2 $\n",
    "\n",
    "Y para cada coeficiente calculamos el gradiente correspondiente:\n",
    "- $gradiente𝜃_0 = \\frac{1}{m} ∑_{i=1}^𝑚(𝜃_0+𝜃_1*𝑥_1^{(i)}−𝑦^{(i)})$\n",
    "- $gradiente𝜃_1 = \\frac{1}{m} ∑_{i=1}^𝑚(𝜃_0+𝜃_1*𝑥_1^{(i)}−𝑦^{(i)})*𝑥_1^{(i)}$\n"
   ]
  },
  {
   "cell_type": "markdown",
   "metadata": {},
   "source": [
    "Tareas a desarrollar:\n",
    "\n",
    "- **funcionDeCosto(w0_actual, w1_actual, arrayX, arrayY)**: función que calcula el costo de utilizar los parámetros w0 y w1 para predecir los valores de la variable dependiente Y a partir de X. Retorna el costo.\n",
    "- **pasoDescensoGradiente(w0_actual, w1_actual, arrayX, arrayY, learningRate)**: función que calcula un paso de descenso de gradiente. Retorna una lista (w0_modificado, w1_modificado)\n",
    "- **cicloDescensoGradiente(epocas, learningRate)**: función que inicializa los parámetros w0 y w1 e itera el número de épocas determinadas, ejecutando cada vez un paso de descenso de gradiente con el learningRate dado. Retorna los valores finales de w0 y w1."
   ]
  },
  {
   "cell_type": "code",
   "execution_count": 17,
   "metadata": {},
   "outputs": [],
   "source": [
    "def funcionDeCosto(w0_actual, w1_actual, arrayX, arrayY):\n",
    "    \"\"\"Calcula el valor de la función de costo de una regresión lineal simple con los parámetros w0 y w1.\n",
    "    Retorna: \n",
    "    error: el valor de la función de costo inicial\n",
    "\n",
    "    Argumentos:\n",
    "    w0_actual -- el valor actual del coeficiente de la intersección \n",
    "    w1_actual -- el valor actual del coeficiente asociado al predictor\n",
    "    arrayX -- array con los valores del predictor X de todas las instancias\n",
    "    arrayY -- array con los valores de la variable objetivo Y de todas las instancias\n",
    "    \"\"\"\n",
    "\n",
    "    # Vamos a recorrer todos los puntos y a acumular el error cuadrático (el costo aportado por cada punto)\n",
    "    \n",
    "    m = arrayX.size    \n",
    "    summatory = [(w0_actual+w1_actual*arrayX[i] - arrayY[i])**2 for i in range(m)]\n",
    "    costo = (1/2*m)*np.sum(summatory)\n",
    "    \n",
    "    return costo\n"
   ]
  },
  {
   "cell_type": "code",
   "execution_count": 18,
   "metadata": {},
   "outputs": [],
   "source": [
    "def gradientDescent(w0_actual, w1_actual, arrayX, arrayY, learningRate, printable=False):\n",
    "    \"\"\"Calcula la actualizaciópn de un paso de gradient descent para los coeficientes de una\n",
    "    regresión lineal simple (un predictor).\n",
    "    Retorna una lista con tres posiciones: \n",
    "    w0_modificado: el valor modificado del coeficiente de la intersección después del paso de gradiente\n",
    "    w1_modificado: el valor actual del coeficiente asociado al predictor después del paso de gradiente\n",
    "    cosot: el valor de la función de costo para la iteración actual\n",
    "\n",
    "    Argumentos:\n",
    "    w0_actual -- el valor actual del coeficiente de la intersección \n",
    "    w1_actual -- el valor actual del coeficiente asociado al predictor\n",
    "    arrayX -- array con los valores del predictor X de todas las instancias\n",
    "    arrayY -- array con los valores de la variable objetivo Y de todas las instancias\n",
    "    learningRate -- tasa de aprendizaje para el paso de descenso de gradiente calculado \n",
    "    \"\"\"\n",
    "    \n",
    "    m = arrayX.size\n",
    "    s_w0 = [w0_actual+w1_actual*arrayX[i]-arrayY[i] for i in range(m)]\n",
    "    grad_w0 = (1/m)*np.sum(s_w0)\n",
    "    w0_modificado = w0_actual - learningRate*grad_w0\n",
    "    if printable:\n",
    "        print(grad_w0)\n",
    "    \n",
    "    m = arrayX.size\n",
    "    s_w1 = [(w0_actual+w1_actual*arrayX[i]-arrayY[i])*arrayX[i] for i in range(m)]\n",
    "    grad_w1 = (1/m)*np.sum(s_w1)\n",
    "    w1_modificado = w1_actual - learningRate*grad_w1\n",
    "    if printable:\n",
    "        print(grad_w1)\n",
    "    \n",
    "    costo = funcionDeCosto(w0_modificado, w1_modificado, arrayX, arrayY)\n",
    "\n",
    "    return [w0_modificado, w1_modificado, costo]"
   ]
  },
  {
   "cell_type": "code",
   "execution_count": 22,
   "metadata": {},
   "outputs": [],
   "source": [
    "def cicloDescensoGradiente(arrayX, arrayY, epocas, learningRate, printable=False):\n",
    "    # Definimos los valores iniciales de los coeficientes\n",
    "    w0 = 0\n",
    "    w1 = 0\n",
    "    #Vamos a iterar sobre las epocas llamando cada vez a un nuevo paso de gradient descent\n",
    "    w0s = []\n",
    "    w1s = []\n",
    "    costos = []\n",
    "    for epoca in range(epocas): \n",
    "        if epoca%100==0 and printable:\n",
    "            [w0, w1, costo] = gradientDescent(w0, w1, arrayX, arrayY, learningRate, True)\n",
    "            print(epoca, w0, w1, costo)\n",
    "        else: \n",
    "            [w0, w1, costo] = gradientDescent(w0, w1, arrayX, arrayY, learningRate)\n",
    "        w0s.append(w0)\n",
    "        w1s.append(w1)\n",
    "        costos.append(costo)\n",
    "    index = np.argmin(costos)\n",
    "    print(index)\n",
    "    fig = plt.figure(figsize=(18,5))\n",
    "    plt.plot(costos)\n",
    "    plt.xlabel(\"epoca\")\n",
    "    plt.ylabel(\"costos\")\n",
    "    return (w0s[index], w1s[index])"
   ]
  },
  {
   "cell_type": "markdown",
   "metadata": {},
   "source": [
    "testing"
   ]
  },
  {
   "cell_type": "code",
   "execution_count": 24,
   "metadata": {},
   "outputs": [
    {
     "name": "stdout",
     "output_type": "stream",
     "text": [
      "0\n"
     ]
    },
    {
     "data": {
      "text/plain": [
       "(7.200507431944483, 4.165207027453594)"
      ]
     },
     "execution_count": 24,
     "metadata": {},
     "output_type": "execute_result"
    },
    {
     "data": {
      "image/png": "[encoded data removed]",
      "text/plain": [
       "<Figure size 1296x360 with 1 Axes>"
      ]
     },
     "metadata": {
      "needs_background": "light"
     },
     "output_type": "display_data"
    }
   ],
   "source": [
    "# Parámetros del algoritmo de gradient descent\n",
    "learningRate = 1.8\n",
    "epocas = 1000\n",
    "np.random.seed(123456)\n",
    "x = np.random.random(500)\n",
    "w0 = 2 #cualquier número para luego calcular la y y pasárselo al modelo.\n",
    "w1 = 4\n",
    "epsilon = np.random.normal(0, 1, 500) #basura\n",
    "y = x*w1 + w0 + epsilon\n",
    "cicloDescensoGradiente(x, y, epocas, learningRate)\n"
   ]
  },
  {
   "cell_type": "code",
   "execution_count": null,
   "metadata": {},
   "outputs": [],
   "source": []
  }
 ],
 "metadata": {
  "kernelspec": {
   "display_name": "Python 3",
   "language": "python",
   "name": "python3"
  },
  "language_info": {
   "codemirror_mode": {
    "name": "ipython",
    "version": 3
   },
   "file_extension": ".py",
   "mimetype": "text/x-python",
   "name": "python",
   "nbconvert_exporter": "python",
   "pygments_lexer": "ipython3",
   "version": "3.7.0"
  }
 },
 "nbformat": 4,
 "nbformat_minor": 2
}
